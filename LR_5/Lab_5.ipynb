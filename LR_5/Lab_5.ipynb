{
 "cells": [
  {
   "cell_type": "code",
   "execution_count": 1,
   "id": "7ce31a8b",
   "metadata": {},
   "outputs": [],
   "source": [
    "import numpy as np # фреймы данных\n",
    "import pandas as pd # графики\n",
    "import matplotlib as mpl\n",
    "# стили и шаблоны графиков на основе matplotlib\n",
    "import seaborn as sns\n",
    "# для таймера\n",
    "import time\n",
    "# загрузка пакетов: модели ------------------------------------------------- # SVM\n",
    "from sklearn.svm import SVC\n",
    "# логистическая рагрессия\n",
    "from sklearn.linear_model import LogisticRegression # стандартизация\n",
    "from sklearn.preprocessing import StandardScaler\n",
    "# метод главных компонент\n",
    "from sklearn.decomposition import PCA\n",
    "# конвейеры\n",
    "from sklearn.pipeline import make_pipeline\n",
    "# перекрёстная проверка и метод проверочной выборки\n",
    "from sklearn.model_selection import cross_val_score, train_test_split # для перекрёстной проверки и сеточного поиска\n",
    "from sklearn.model_selection import KFold, GridSearchCV\n",
    "# сводка по точности классификации\n",
    "from sklearn.metrics import classification_report\n",
    "from sklearn.ensemble import RandomForestClassifier\n",
    "\n",
    "# константы\n",
    "# ядро для генератора случайных чисел\n",
    "my_seed = 11\n",
    "# создаём псевдоним для короткого обращения к графикам\n",
    "plt = mpl.pyplot\n",
    "# настройка стиля и отображения графиков\n",
    "# примеры стилей и шаблонов графиков:\n",
    "# http://tonysyu.github.io/raw_content/matplotlib-style-gallery/gallery.html mpl.style.use('seaborn-whitegrid')\n",
    "sns.set_palette(\"Set2\")\n",
    "# раскомментируйте следующую строку, чтобы посмотреть палитру\n",
    "# sns.color_palette(\"Set2\")"
   ]
  },
  {
   "cell_type": "code",
   "execution_count": 2,
   "id": "2cc8332e",
   "metadata": {},
   "outputs": [],
   "source": [
    "fileURL = 'https://raw.githubusercontent.com/aksyuk/MTML/main/Labs/data/winequality-white_for_lab.csv'\n",
    "\n",
    "DF_raw = pd.read_csv(fileURL)\n",
    "\n",
    "DF_raw = DF_raw[['fixed_acidity','volatile_acidity','citric_acid','residual_sugar','chlorides','free_sulfur_dioxide','pH','sulphates','alcohol','Y']]\n",
    "    "
   ]
  },
  {
   "cell_type": "code",
   "execution_count": 3,
   "id": "4dee1b60",
   "metadata": {},
   "outputs": [],
   "source": [
    "# наблюдения для моделирования\n",
    "DF = DF_raw.sample(frac = 0.85, random_state = my_seed) # отложенные наблюдения\n",
    "DF_predict = DF_raw.drop(DF.index)\n",
    "     "
   ]
  },
  {
   "cell_type": "code",
   "execution_count": 4,
   "id": "3e9a6dc9",
   "metadata": {},
   "outputs": [
    {
     "data": {
      "text/plain": [
       "fixed_acidity          float64\n",
       "volatile_acidity       float64\n",
       "citric_acid            float64\n",
       "residual_sugar         float64\n",
       "chlorides              float64\n",
       "free_sulfur_dioxide    float64\n",
       "pH                     float64\n",
       "sulphates              float64\n",
       "alcohol                float64\n",
       "Y                        int64\n",
       "dtype: object"
      ]
     },
     "execution_count": 4,
     "metadata": {},
     "output_type": "execute_result"
    }
   ],
   "source": [
    "DF_raw.dtypes"
   ]
  },
  {
   "cell_type": "markdown",
   "id": "3b0d0c01",
   "metadata": {},
   "source": [
    "Все переменные имеют числовой тип"
   ]
  },
  {
   "cell_type": "code",
   "execution_count": 5,
   "id": "e060a940",
   "metadata": {},
   "outputs": [
    {
     "data": {
      "text/plain": [
       "fixed_acidity          0\n",
       "volatile_acidity       0\n",
       "citric_acid            0\n",
       "residual_sugar         0\n",
       "chlorides              0\n",
       "free_sulfur_dioxide    0\n",
       "pH                     0\n",
       "sulphates              0\n",
       "alcohol                0\n",
       "Y                      0\n",
       "dtype: int64"
      ]
     },
     "execution_count": 5,
     "metadata": {},
     "output_type": "execute_result"
    }
   ],
   "source": [
    "# считаем пропуски в каждом столбце\n",
    "DF_raw.isna().sum()"
   ]
  },
  {
   "cell_type": "markdown",
   "id": "286ce6bc",
   "metadata": {},
   "source": [
    "Пропусков в таблице нет"
   ]
  },
  {
   "cell_type": "markdown",
   "id": "5ae786f9",
   "metadata": {},
   "source": [
    "## Стандартизация и переход к главным компонентам"
   ]
  },
  {
   "cell_type": "code",
   "execution_count": 6,
   "id": "78a7d527",
   "metadata": {},
   "outputs": [
    {
     "name": "stdout",
     "output_type": "stream",
     "text": [
      "Доли объяснённой дисперсии по компонентам в PLS:\n",
      " [0.252 0.149 0.142 0.129 0.103 0.093 0.081 0.051] \n",
      "Общая сумма долей: 1.0\n"
     ]
    }
   ],
   "source": [
    "from sklearn.decomposition import PCA\n",
    "from sklearn.preprocessing import StandardScaler\n",
    "# стандартизация\n",
    "sc = StandardScaler()\n",
    "X_train_std = sc.fit_transform(DF.iloc[:, 2:].values)\n",
    "# оцениваем объяснённую главными компонентами дисперсию\n",
    "pca = PCA()\n",
    "X_train_pca = pca.fit_transform(X_train_std)\n",
    "# считаем доли объяснённой дисперсии\n",
    "frac_var_expl = pca.explained_variance_ratio_\n",
    "print('Доли объяснённой дисперсии по компонентам в PLS:\\n',\n",
    " np.around(frac_var_expl, 3),\n",
    " '\\nОбщая сумма долей:', np.around(sum(frac_var_expl), 3))"
   ]
  },
  {
   "cell_type": "markdown",
   "id": "6a59904f",
   "metadata": {},
   "source": [
    "Таким образом, первые две главные компоненты объясняют 38.3% разброса 9 объясняющих переменных."
   ]
  },
  {
   "cell_type": "code",
   "execution_count": 7,
   "id": "1b251294",
   "metadata": {},
   "outputs": [],
   "source": [
    "X_train = DF[['fixed_acidity','volatile_acidity','citric_acid','residual_sugar','chlorides','free_sulfur_dioxide','pH','sulphates','alcohol']]\n",
    "y_train = DF.Y"
   ]
  },
  {
   "cell_type": "markdown",
   "id": "9ae8eac1",
   "metadata": {},
   "source": [
    "### Модель №1"
   ]
  },
  {
   "cell_type": "code",
   "execution_count": 8,
   "id": "24f103a9",
   "metadata": {},
   "outputs": [
    {
     "name": "stdout",
     "output_type": "stream",
     "text": [
      "Сеточный поиск занял 13.34 секунд\n"
     ]
    }
   ],
   "source": [
    "pipe_svc = make_pipeline(StandardScaler(), SVC(random_state=my_seed))\n",
    "# настроим параметры SVM с помощью сеточного поиска\n",
    "\n",
    "param_grid = [{'svc__C': [0.1, 100, 80],\n",
    "              'svc__gamma': [1, 0.1, 0.2, 0.001],\n",
    "              'svc__kernel': ['rbf']}]\n",
    "\n",
    "# разбиения для перекрёстной проверки\n",
    "kfold = KFold(n_splits=5, random_state=my_seed, shuffle=True)\n",
    "gs = GridSearchCV(estimator=pipe_svc, param_grid=param_grid, scoring='accuracy', refit=True, cv=kfold,\n",
    "n_jobs=-1)\n",
    "# таймер\n",
    "tic = time.perf_counter()\n",
    "# запускаем сеточный поиск\n",
    "gs = gs.fit(X_train, y_train)\n",
    "# таймер\n",
    "toc = time.perf_counter()\n",
    "print(f\"Сеточный поиск занял {toc - tic:0.2f} секунд\", sep='')"
   ]
  },
  {
   "cell_type": "code",
   "execution_count": 9,
   "id": "17805b09",
   "metadata": {},
   "outputs": [
    {
     "data": {
      "text/plain": [
       "0.798"
      ]
     },
     "execution_count": 9,
     "metadata": {},
     "output_type": "execute_result"
    }
   ],
   "source": [
    "# точность лучшей модели\n",
    "np.around(gs.best_score_, 3)"
   ]
  },
  {
   "cell_type": "code",
   "execution_count": 10,
   "id": "661a6c0b",
   "metadata": {},
   "outputs": [
    {
     "data": {
      "text/plain": [
       "{'memory': None,\n",
       " 'steps': [('standardscaler', StandardScaler()),\n",
       "  ('svc', SVC(C=80, gamma=1, random_state=11))],\n",
       " 'verbose': False,\n",
       " 'standardscaler': StandardScaler(),\n",
       " 'svc': SVC(C=80, gamma=1, random_state=11),\n",
       " 'standardscaler__copy': True,\n",
       " 'standardscaler__with_mean': True,\n",
       " 'standardscaler__with_std': True,\n",
       " 'svc__C': 80,\n",
       " 'svc__break_ties': False,\n",
       " 'svc__cache_size': 200,\n",
       " 'svc__class_weight': None,\n",
       " 'svc__coef0': 0.0,\n",
       " 'svc__decision_function_shape': 'ovr',\n",
       " 'svc__degree': 3,\n",
       " 'svc__gamma': 1,\n",
       " 'svc__kernel': 'rbf',\n",
       " 'svc__max_iter': -1,\n",
       " 'svc__probability': False,\n",
       " 'svc__random_state': 11,\n",
       " 'svc__shrinking': True,\n",
       " 'svc__tol': 0.001,\n",
       " 'svc__verbose': False}"
      ]
     },
     "execution_count": 10,
     "metadata": {},
     "output_type": "execute_result"
    }
   ],
   "source": [
    "gs.best_estimator_.get_params()"
   ]
  },
  {
   "cell_type": "markdown",
   "id": "9a643c66",
   "metadata": {},
   "source": [
    "### Модель №2"
   ]
  },
  {
   "cell_type": "code",
   "execution_count": 11,
   "id": "f70b788a",
   "metadata": {},
   "outputs": [
    {
     "name": "stderr",
     "output_type": "stream",
     "text": [
      "C:\\Users\\a_zlo\\anaconda3\\envs\\notebook\\lib\\site-packages\\sklearn\\model_selection\\_validation.py:372: FitFailedWarning: \n",
      "20 fits failed out of a total of 40.\n",
      "The score on these train-test partitions for these parameters will be set to nan.\n",
      "If these failures are not expected, you can try to debug them by setting error_score='raise'.\n",
      "\n",
      "Below are more details about the failures:\n",
      "--------------------------------------------------------------------------------\n",
      "20 fits failed with the following error:\n",
      "Traceback (most recent call last):\n",
      "  File \"C:\\Users\\a_zlo\\anaconda3\\envs\\notebook\\lib\\site-packages\\sklearn\\model_selection\\_validation.py\", line 680, in _fit_and_score\n",
      "    estimator.fit(X_train, y_train, **fit_params)\n",
      "  File \"C:\\Users\\a_zlo\\anaconda3\\envs\\notebook\\lib\\site-packages\\sklearn\\pipeline.py\", line 394, in fit\n",
      "    self._final_estimator.fit(Xt, y, **fit_params_last_step)\n",
      "  File \"C:\\Users\\a_zlo\\anaconda3\\envs\\notebook\\lib\\site-packages\\sklearn\\ensemble\\_forest.py\", line 467, in fit\n",
      "    for i, t in enumerate(trees)\n",
      "  File \"C:\\Users\\a_zlo\\anaconda3\\envs\\notebook\\lib\\site-packages\\joblib\\parallel.py\", line 1048, in __call__\n",
      "    if self.dispatch_one_batch(iterator):\n",
      "  File \"C:\\Users\\a_zlo\\anaconda3\\envs\\notebook\\lib\\site-packages\\joblib\\parallel.py\", line 864, in dispatch_one_batch\n",
      "    self._dispatch(tasks)\n",
      "  File \"C:\\Users\\a_zlo\\anaconda3\\envs\\notebook\\lib\\site-packages\\joblib\\parallel.py\", line 782, in _dispatch\n",
      "    job = self._backend.apply_async(batch, callback=cb)\n",
      "  File \"C:\\Users\\a_zlo\\anaconda3\\envs\\notebook\\lib\\site-packages\\joblib\\_parallel_backends.py\", line 208, in apply_async\n",
      "    result = ImmediateResult(func)\n",
      "  File \"C:\\Users\\a_zlo\\anaconda3\\envs\\notebook\\lib\\site-packages\\joblib\\_parallel_backends.py\", line 572, in __init__\n",
      "    self.results = batch()\n",
      "  File \"C:\\Users\\a_zlo\\anaconda3\\envs\\notebook\\lib\\site-packages\\joblib\\parallel.py\", line 264, in __call__\n",
      "    for func, args, kwargs in self.items]\n",
      "  File \"C:\\Users\\a_zlo\\anaconda3\\envs\\notebook\\lib\\site-packages\\joblib\\parallel.py\", line 264, in <listcomp>\n",
      "    for func, args, kwargs in self.items]\n",
      "  File \"C:\\Users\\a_zlo\\anaconda3\\envs\\notebook\\lib\\site-packages\\sklearn\\utils\\fixes.py\", line 216, in __call__\n",
      "    return self.function(*args, **kwargs)\n",
      "  File \"C:\\Users\\a_zlo\\anaconda3\\envs\\notebook\\lib\\site-packages\\sklearn\\ensemble\\_forest.py\", line 185, in _parallel_build_trees\n",
      "    tree.fit(X, y, sample_weight=curr_sample_weight, check_input=False)\n",
      "  File \"C:\\Users\\a_zlo\\anaconda3\\envs\\notebook\\lib\\site-packages\\sklearn\\tree\\_classes.py\", line 942, in fit\n",
      "    X_idx_sorted=X_idx_sorted,\n",
      "  File \"C:\\Users\\a_zlo\\anaconda3\\envs\\notebook\\lib\\site-packages\\sklearn\\tree\\_classes.py\", line 308, in fit\n",
      "    raise ValueError(\"max_features must be in (0, n_features]\")\n",
      "ValueError: max_features must be in (0, n_features]\n",
      "\n",
      "  warnings.warn(some_fits_failed_message, FitFailedWarning)\n",
      "C:\\Users\\a_zlo\\anaconda3\\envs\\notebook\\lib\\site-packages\\sklearn\\model_selection\\_search.py:972: UserWarning: One or more of the test scores are non-finite: [0.82536087        nan 0.82728394        nan]\n",
      "  category=UserWarning,\n"
     ]
    },
    {
     "name": "stdout",
     "output_type": "stream",
     "text": [
      "Сеточный поиск занял 3.37 секунд\n"
     ]
    }
   ],
   "source": [
    "pipe_tree = make_pipeline(\n",
    "      StandardScaler(),\n",
    "      RandomForestClassifier(random_state=my_seed),\n",
    ")\n",
    "\n",
    "\n",
    "# настроим параметры SVM с помощью сеточного поиска\n",
    "\n",
    "param_grid = {\n",
    "    'randomforestclassifier__n_estimators': [60],\n",
    "    'randomforestclassifier__max_depth': [20, 30],\n",
    "    'randomforestclassifier__max_features': [5, 10],\n",
    "    'randomforestclassifier__criterion': ['entropy'],\n",
    "    'randomforestclassifier__min_samples_split': [3],\n",
    "}\n",
    "\n",
    "# разбиения для перекрёстной проверки\n",
    "kfold = KFold(n_splits=10, random_state=my_seed, shuffle=True)\n",
    "gs2 = GridSearchCV(estimator=pipe_tree, param_grid=param_grid, scoring='accuracy', refit=True, cv=kfold,\n",
    "n_jobs=-1)\n",
    "# таймер\n",
    "tic = time.perf_counter()\n",
    "# запускаем сеточный поиск\n",
    "gs2 = gs2.fit(X_train, y_train)\n",
    "# таймер\n",
    "toc = time.perf_counter()\n",
    "print(f\"Сеточный поиск занял {toc - tic:0.2f} секунд\", sep='')"
   ]
  },
  {
   "cell_type": "code",
   "execution_count": 12,
   "id": "58e85168",
   "metadata": {},
   "outputs": [
    {
     "data": {
      "text/plain": [
       "0.827"
      ]
     },
     "execution_count": 12,
     "metadata": {},
     "output_type": "execute_result"
    }
   ],
   "source": [
    "# точность лучшей модели\n",
    "np.around(gs2.best_score_, 3)"
   ]
  },
  {
   "cell_type": "code",
   "execution_count": 13,
   "id": "0483c720",
   "metadata": {},
   "outputs": [
    {
     "data": {
      "text/plain": [
       "{'memory': None,\n",
       " 'steps': [('standardscaler', StandardScaler()),\n",
       "  ('randomforestclassifier',\n",
       "   RandomForestClassifier(criterion='entropy', max_depth=30, max_features=5,\n",
       "                          min_samples_split=3, n_estimators=60, random_state=11))],\n",
       " 'verbose': False,\n",
       " 'standardscaler': StandardScaler(),\n",
       " 'randomforestclassifier': RandomForestClassifier(criterion='entropy', max_depth=30, max_features=5,\n",
       "                        min_samples_split=3, n_estimators=60, random_state=11),\n",
       " 'standardscaler__copy': True,\n",
       " 'standardscaler__with_mean': True,\n",
       " 'standardscaler__with_std': True,\n",
       " 'randomforestclassifier__bootstrap': True,\n",
       " 'randomforestclassifier__ccp_alpha': 0.0,\n",
       " 'randomforestclassifier__class_weight': None,\n",
       " 'randomforestclassifier__criterion': 'entropy',\n",
       " 'randomforestclassifier__max_depth': 30,\n",
       " 'randomforestclassifier__max_features': 5,\n",
       " 'randomforestclassifier__max_leaf_nodes': None,\n",
       " 'randomforestclassifier__max_samples': None,\n",
       " 'randomforestclassifier__min_impurity_decrease': 0.0,\n",
       " 'randomforestclassifier__min_samples_leaf': 1,\n",
       " 'randomforestclassifier__min_samples_split': 3,\n",
       " 'randomforestclassifier__min_weight_fraction_leaf': 0.0,\n",
       " 'randomforestclassifier__n_estimators': 60,\n",
       " 'randomforestclassifier__n_jobs': None,\n",
       " 'randomforestclassifier__oob_score': False,\n",
       " 'randomforestclassifier__random_state': 11,\n",
       " 'randomforestclassifier__verbose': 0,\n",
       " 'randomforestclassifier__warm_start': False}"
      ]
     },
     "execution_count": 13,
     "metadata": {},
     "output_type": "execute_result"
    }
   ],
   "source": [
    "gs2.best_estimator_.get_params()"
   ]
  },
  {
   "cell_type": "markdown",
   "id": "94a8a5f2",
   "metadata": {},
   "source": [
    "Максимальную метрику Acc = 82,7% на обучающей выборке получилось выбить с помощью второй модели. Получить Acc больше этого значения, к сожалению, не получилось"
   ]
  },
  {
   "cell_type": "markdown",
   "id": "122d056b",
   "metadata": {},
   "source": [
    "## Прогноз на отложенные наблюдения по лучшей модели"
   ]
  },
  {
   "cell_type": "code",
   "execution_count": 14,
   "id": "d7fdf535",
   "metadata": {},
   "outputs": [],
   "source": [
    "score = list()\n",
    "score_models = list()\n",
    "score.append(np.around(gs.best_score_, 3))\n",
    "score_models.append('model_1')\n",
    "\n",
    "score.append(np.around(gs2.best_score_, 3))\n",
    "score_models.append('model_2')"
   ]
  },
  {
   "cell_type": "code",
   "execution_count": 15,
   "id": "4b928e2b",
   "metadata": {},
   "outputs": [
    {
     "data": {
      "text/html": [
       "<div>\n",
       "<style scoped>\n",
       "    .dataframe tbody tr th:only-of-type {\n",
       "        vertical-align: middle;\n",
       "    }\n",
       "\n",
       "    .dataframe tbody tr th {\n",
       "        vertical-align: top;\n",
       "    }\n",
       "\n",
       "    .dataframe thead th {\n",
       "        text-align: right;\n",
       "    }\n",
       "</style>\n",
       "<table border=\"1\" class=\"dataframe\">\n",
       "  <thead>\n",
       "    <tr style=\"text-align: right;\">\n",
       "      <th></th>\n",
       "      <th>Модель</th>\n",
       "      <th>Acc</th>\n",
       "    </tr>\n",
       "  </thead>\n",
       "  <tbody>\n",
       "    <tr>\n",
       "      <th>0</th>\n",
       "      <td>model_1</td>\n",
       "      <td>0.798</td>\n",
       "    </tr>\n",
       "    <tr>\n",
       "      <th>1</th>\n",
       "      <td>model_2</td>\n",
       "      <td>0.827</td>\n",
       "    </tr>\n",
       "  </tbody>\n",
       "</table>\n",
       "</div>"
      ],
      "text/plain": [
       "    Модель    Acc\n",
       "0  model_1  0.798\n",
       "1  model_2  0.827"
      ]
     },
     "execution_count": 15,
     "metadata": {},
     "output_type": "execute_result"
    }
   ],
   "source": [
    "pd.DataFrame({'Модель' : score_models, 'Acc' : score})"
   ]
  },
  {
   "cell_type": "code",
   "execution_count": 16,
   "id": "8d07d949",
   "metadata": {},
   "outputs": [
    {
     "name": "stdout",
     "output_type": "stream",
     "text": [
      "              precision    recall  f1-score   support\n",
      "\n",
      "           0       0.80      0.73      0.76       237\n",
      "           1       0.88      0.92      0.89       498\n",
      "\n",
      "    accuracy                           0.85       735\n",
      "   macro avg       0.84      0.82      0.83       735\n",
      "weighted avg       0.85      0.85      0.85       735\n",
      "\n"
     ]
    }
   ],
   "source": [
    "# прогноз с помощью лучшей модели (модель 2)\n",
    "y_hat = gs2.best_estimator_.predict(X=DF_predict[['fixed_acidity','volatile_acidity','citric_acid','residual_sugar','chlorides','free_sulfur_dioxide','pH','sulphates','alcohol']])\n",
    "# точность\n",
    "# характеристики точности\n",
    "print(classification_report(DF_predict.Y, y_hat))"
   ]
  },
  {
   "cell_type": "markdown",
   "id": "e745bf1a",
   "metadata": {},
   "source": [
    "Точность модели на отложных наблюдениях оказалась больше (0.85), чем точности моделей, полученные до этого на других наблюдениях (0.798; 0.827)"
   ]
  },
  {
   "cell_type": "code",
   "execution_count": null,
   "id": "daaefa9a",
   "metadata": {},
   "outputs": [],
   "source": []
  }
 ],
 "metadata": {
  "kernelspec": {
   "display_name": "Python 3 (ipykernel)",
   "language": "python",
   "name": "python3"
  },
  "language_info": {
   "codemirror_mode": {
    "name": "ipython",
    "version": 3
   },
   "file_extension": ".py",
   "mimetype": "text/x-python",
   "name": "python",
   "nbconvert_exporter": "python",
   "pygments_lexer": "ipython3",
   "version": "3.7.1"
  }
 },
 "nbformat": 4,
 "nbformat_minor": 5
}
